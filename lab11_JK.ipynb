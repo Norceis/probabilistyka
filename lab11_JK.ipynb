{
 "cells": [
  {
   "cell_type": "code",
   "execution_count": 980,
   "outputs": [],
   "source": [
    "import numpy as np\n",
    "import random as rd\n",
    "import matplotlib.pyplot as plt\n",
    "epochs = 100000"
   ],
   "metadata": {
    "collapsed": false,
    "pycharm": {
     "name": "#%%\n"
    }
   }
  },
  {
   "cell_type": "code",
   "execution_count": 981,
   "outputs": [],
   "source": [
    "class Batch:\n",
    "    quality = 0.5\n",
    "    alpha = 1\n",
    "    beta = 1\n",
    "\n",
    "    def __init__(self, quality):\n",
    "        self.quality = quality\n",
    "\n",
    "    def sample_distribution(self):\n",
    "        return np.random.beta(self.alpha, self.beta)\n",
    "\n",
    "    def get_element(self):\n",
    "        good = np.random.rand() < self.quality\n",
    "        self.alpha = self.alpha + int(good)\n",
    "        self.beta = self.beta + 1 - int(good)\n",
    "        return good"
   ],
   "metadata": {
    "collapsed": false,
    "pycharm": {
     "name": "#%%\n"
    }
   }
  },
  {
   "cell_type": "code",
   "execution_count": 982,
   "outputs": [],
   "source": [
    "class Factory:\n",
    "    batches = []\n",
    "    systems = 0\n",
    "    good = 0\n",
    "\n",
    "    def set_batches(self, qualities):\n",
    "        self.batches = [Batch(quality) for quality in qualities]\n",
    "        self.systems = 0\n",
    "        self.good = 0\n",
    "\n",
    "    def get_element(self):\n",
    "        samples = [batch.sample_distribution() for batch in self.batches]\n",
    "        choice = np.argmax(samples)\n",
    "        result = self.batches[choice].get_element()\n",
    "        self.systems = self.systems + 1\n",
    "        self.good = self.good + int(result)"
   ],
   "metadata": {
    "collapsed": false,
    "pycharm": {
     "name": "#%%\n"
    }
   }
  },
  {
   "cell_type": "code",
   "execution_count": 983,
   "outputs": [
    {
     "name": "stdout",
     "output_type": "stream",
     "text": [
      "Score is 0.94839\n"
     ]
    }
   ],
   "source": [
    "batches = [0.5, 0.6, 0.7, 0.8, 0.9, 0.95]\n",
    "\n",
    "factorium = Factory()\n",
    "factorium.set_batches(batches)\n",
    "for _ in range(epochs):\n",
    "    factorium.get_element()\n",
    "print(f'Score is {factorium.good / factorium.systems}')"
   ],
   "metadata": {
    "collapsed": false,
    "pycharm": {
     "name": "#%%\n"
    }
   }
  },
  {
   "cell_type": "code",
   "execution_count": 984,
   "outputs": [
    {
     "name": "stdout",
     "output_type": "stream",
     "text": [
      "1 5\n",
      "7 6\n",
      "3 4\n",
      "19 9\n",
      "97 17\n",
      "94718 5126\n"
     ]
    }
   ],
   "source": [
    "for idx in range(len(factorium.batches)):\n",
    "    print(factorium.batches[idx].alpha, factorium.batches[idx].beta)"
   ],
   "metadata": {
    "collapsed": false,
    "pycharm": {
     "name": "#%%\n"
    }
   }
  },
  {
   "cell_type": "markdown",
   "source": [
    "<h1><center><font size=\"10\">First strategy</font></center></h1>"
   ],
   "metadata": {
    "collapsed": false,
    "pycharm": {
     "name": "#%% md\n"
    }
   }
  },
  {
   "cell_type": "code",
   "execution_count": 985,
   "outputs": [],
   "source": [
    "class Factory_if_bad_then_next:\n",
    "    def __init__(self):\n",
    "        self.batches = []\n",
    "        self.systems = 0\n",
    "        self.good = 0\n",
    "        self.index = 0\n",
    "\n",
    "    def set_batches(self, qualities):\n",
    "        self.batches = [Batch(quality) for quality in qualities]\n",
    "        self.systems = 0\n",
    "        self.good = 0\n",
    "\n",
    "    def get_element(self):\n",
    "        result = self.batches[self.index].get_element()\n",
    "        if not result:\n",
    "            self.index += 1\n",
    "            if self.index == len(self.batches):\n",
    "                self.index = 0\n",
    "        self.systems = self.systems + 1\n",
    "        self.good = self.good + int(result)"
   ],
   "metadata": {
    "collapsed": false,
    "pycharm": {
     "name": "#%%\n"
    }
   }
  },
  {
   "cell_type": "code",
   "execution_count": 986,
   "outputs": [
    {
     "name": "stdout",
     "output_type": "stream",
     "text": [
      "Score is 0.85914\n"
     ]
    }
   ],
   "source": [
    "factorium_ibtn = Factory_if_bad_then_next()\n",
    "factorium_ibtn.set_batches(batches)\n",
    "for _ in range(epochs):\n",
    "    factorium_ibtn.get_element()\n",
    "print(f'Score is {factorium_ibtn.good / factorium_ibtn.systems}')"
   ],
   "metadata": {
    "collapsed": false,
    "pycharm": {
     "name": "#%%\n"
    }
   }
  },
  {
   "cell_type": "code",
   "execution_count": 987,
   "outputs": [
    {
     "name": "stdout",
     "output_type": "stream",
     "text": [
      "1 5\n",
      "7 6\n",
      "3 4\n",
      "19 9\n",
      "97 17\n",
      "94718 5126\n"
     ]
    }
   ],
   "source": [
    "for idx in range(len(factorium.batches)):\n",
    "    print(factorium.batches[idx].alpha, factorium.batches[idx].beta)"
   ],
   "metadata": {
    "collapsed": false,
    "pycharm": {
     "name": "#%%\n"
    }
   }
  },
  {
   "cell_type": "markdown",
   "source": [
    "<h1><center><font size=\"10\">Second strategy</font></center></h1>"
   ],
   "metadata": {
    "collapsed": false,
    "pycharm": {
     "name": "#%% md\n"
    }
   }
  },
  {
   "cell_type": "code",
   "execution_count": 988,
   "outputs": [],
   "source": [
    "class Factory_ranking_simple:\n",
    "    def __init__(self, target_sample_count: int):\n",
    "        self.batches = []\n",
    "        self.systems = 0\n",
    "        self.good = 0\n",
    "        self.batch_ranking = dict()\n",
    "        self.index = 0\n",
    "        self.sample_count = 0\n",
    "        self.target_sample_count = target_sample_count\n",
    "\n",
    "    def set_batches(self, qualities):\n",
    "        self.batches = [Batch(quality) for quality in qualities]\n",
    "        self.systems = 0\n",
    "        self.good = 0\n",
    "\n",
    "    def rank_batches(self):\n",
    "        for batch in range(len(self.batches)):\n",
    "            self.batch_ranking[batch] = [0, 0, 0]\n",
    "\n",
    "    def get_element(self):\n",
    "        while self.sample_count < self.target_sample_count:\n",
    "            if self.systems < (len(self.batches) * 2):\n",
    "                result = self.batches[self.index].get_element()\n",
    "                good_value = self.batch_ranking[self.index][0]\n",
    "                sum_value = self.batch_ranking[self.index][1]\n",
    "\n",
    "                self.batch_ranking[self.index] = [good_value + int(result),\n",
    "                                                  sum_value + 1,\n",
    "                                                  (good_value + int(result)) / (sum_value + 1)]\n",
    "\n",
    "                self.systems = self.systems + 1\n",
    "                self.good = self.good + int(result)\n",
    "\n",
    "                self.index += 1\n",
    "                if self.index == len(self.batches):\n",
    "                    self.index = 0\n",
    "\n",
    "                self.sample_count += 1\n",
    "\n",
    "            else:\n",
    "                sorted_best_ratios = sorted(self.batch_ranking.items(), key=lambda x:x[1][2])\n",
    "                for n_elements_to_pick, batch_index in enumerate(sorted_best_ratios):\n",
    "                    for _ in range(0, n_elements_to_pick + 1):\n",
    "                        result = self.batches[batch_index[0]].get_element()\n",
    "                        good_value = self.batch_ranking[batch_index[0]][0]\n",
    "                        sum_value = self.batch_ranking[batch_index[0]][1]\n",
    "\n",
    "                        self.batch_ranking[batch_index[0]] = [good_value + int(result),\n",
    "                                                              sum_value + 1,\n",
    "                                                              (good_value + int(result)) / (sum_value + 1)]\n",
    "                        self.systems = self.systems + 1\n",
    "                        self.good = self.good + int(result)\n",
    "                        self.sample_count += 1"
   ],
   "metadata": {
    "collapsed": false,
    "pycharm": {
     "name": "#%%\n"
    }
   }
  },
  {
   "cell_type": "code",
   "execution_count": 989,
   "outputs": [
    {
     "name": "stdout",
     "output_type": "stream",
     "text": [
      "Score is 0.8192952986581878\n"
     ]
    }
   ],
   "source": [
    "factorium_ranking_simple = Factory_ranking_simple(target_sample_count=epochs)\n",
    "factorium_ranking_simple.set_batches(batches)\n",
    "factorium_ranking_simple.rank_batches()\n",
    "factorium_ranking_simple.get_element()\n",
    "print(f'Score is {factorium_ranking_simple.good / factorium_ranking_simple.systems}')"
   ],
   "metadata": {
    "collapsed": false,
    "pycharm": {
     "name": "#%%\n"
    }
   }
  },
  {
   "cell_type": "code",
   "execution_count": 990,
   "outputs": [
    {
     "name": "stdout",
     "output_type": "stream",
     "text": [
      "2338 2431\n",
      "5725 3803\n",
      "9999 4289\n",
      "15232 3820\n",
      "21485 2332\n",
      "27168 1404\n"
     ]
    }
   ],
   "source": [
    "for idx in range(len(factorium.batches)):\n",
    "    print(factorium_ranking_simple.batches[idx].alpha, factorium_ranking_simple.batches[idx].beta)"
   ],
   "metadata": {
    "collapsed": false,
    "pycharm": {
     "name": "#%%\n"
    }
   }
  },
  {
   "cell_type": "markdown",
   "source": [
    "<h1><center><font size=\"10\">Third strategy</font></center></h1>"
   ],
   "metadata": {
    "collapsed": false,
    "pycharm": {
     "name": "#%% md\n"
    }
   }
  },
  {
   "cell_type": "code",
   "execution_count": 991,
   "outputs": [],
   "source": [
    "class Factory_ranking_hard:\n",
    "    def __init__(self, target_sample_count: int):\n",
    "        self.batches = []\n",
    "        self.systems = 0\n",
    "        self.good = 0\n",
    "        self.batch_ranking = dict()\n",
    "        self.index = 0\n",
    "        self.sample_count = 0\n",
    "        self.target_sample_count = target_sample_count\n",
    "        self.ratios = []\n",
    "\n",
    "    def set_batches(self, qualities):\n",
    "        self.batches = [Batch(quality) for quality in qualities]\n",
    "        self.systems = 0\n",
    "        self.good = 0\n",
    "\n",
    "    def rank_batches(self):\n",
    "        for batch in range(len(self.batches)):\n",
    "            self.batch_ranking[batch] = [0, 0, 0]\n",
    "\n",
    "    def get_element(self):\n",
    "        while self.sample_count < self.target_sample_count:\n",
    "            if self.systems < (len(self.batches) * 2):\n",
    "                result = self.batches[self.index].get_element()\n",
    "                good_value = self.batch_ranking[self.index][0]\n",
    "                sum_value = self.batch_ranking[self.index][1]\n",
    "\n",
    "                self.batch_ranking[self.index] = [good_value + int(result),\n",
    "                                                  sum_value + 1,\n",
    "                                                  (good_value + int(result)) / (sum_value + 1)]\n",
    "\n",
    "                self.systems = self.systems + 1\n",
    "                self.good = self.good + int(result)\n",
    "\n",
    "                self.index += 1\n",
    "                if self.index == len(self.batches):\n",
    "                    self.index = 0\n",
    "\n",
    "                self.sample_count += 1\n",
    "\n",
    "            else:\n",
    "                sorted_best_ratios = sorted(self.batch_ranking.items(), key=lambda x:x[1][2])\n",
    "                self.ratios.append(1)\n",
    "                for batch in range(len(sorted_best_ratios) - 1):\n",
    "                    try:\n",
    "                        self.ratios.append(int(sorted_best_ratios[batch + 1][1][2] / sorted_best_ratios[batch][1][2]))\n",
    "                    except ZeroDivisionError:\n",
    "                        self.ratios.append(1)\n",
    "\n",
    "                value = 1\n",
    "                for position, batch_index in enumerate(sorted_best_ratios):\n",
    "                    value *= self.ratios[position]\n",
    "                    for _ in range(0, value):\n",
    "                        result = self.batches[batch_index[0]].get_element()\n",
    "                        good_value = self.batch_ranking[batch_index[0]][0]\n",
    "                        sum_value = self.batch_ranking[batch_index[0]][1]\n",
    "\n",
    "                        self.batch_ranking[batch_index[0]] = [good_value + int(result),\n",
    "                                                              sum_value + 1,\n",
    "                                                              (good_value + int(result)) / (sum_value + 1)]\n",
    "                        self.systems = self.systems + 1\n",
    "                        self.good = self.good + int(result)\n",
    "                        self.sample_count += 1"
   ],
   "metadata": {
    "collapsed": false,
    "pycharm": {
     "name": "#%%\n"
    }
   }
  },
  {
   "cell_type": "code",
   "execution_count": 992,
   "outputs": [
    {
     "name": "stdout",
     "output_type": "stream",
     "text": [
      "Score is 0.7806043879122417\n"
     ]
    }
   ],
   "source": [
    "factorium_ranking_hard = Factory_ranking_hard(target_sample_count=epochs)\n",
    "factorium_ranking_hard.set_batches(batches)\n",
    "factorium_ranking_hard.rank_batches()\n",
    "factorium_ranking_hard.get_element()\n",
    "print(f'Score is {factorium_ranking_hard.good / factorium_ranking_hard.systems}')"
   ],
   "metadata": {
    "collapsed": false,
    "pycharm": {
     "name": "#%%\n"
    }
   }
  },
  {
   "cell_type": "code",
   "execution_count": 993,
   "outputs": [
    {
     "name": "stdout",
     "output_type": "stream",
     "text": [
      "4981 5022\n",
      "6012 4005\n",
      "13972 6016\n",
      "16018 3984\n",
      "18091 1911\n",
      "18994 1008\n"
     ]
    }
   ],
   "source": [
    "for idx in range(len(factorium_ranking_hard.batches)):\n",
    "    print(factorium_ranking_hard.batches[idx].alpha, factorium_ranking_hard.batches[idx].beta)"
   ],
   "metadata": {
    "collapsed": false,
    "pycharm": {
     "name": "#%%\n"
    }
   }
  },
  {
   "cell_type": "markdown",
   "source": [
    "<h1><center><font size=\"10\">Own strategy</font></center></h1>"
   ],
   "metadata": {
    "collapsed": false,
    "pycharm": {
     "name": "#%% md\n"
    }
   }
  },
  {
   "cell_type": "code",
   "execution_count": 994,
   "outputs": [],
   "source": [
    "class Factory_roulette:\n",
    "    def __init__(self, target_sample_count: int):\n",
    "        self.batches = []\n",
    "        self.systems = 0\n",
    "        self.good = 0\n",
    "        self.batch_ranking = dict()\n",
    "        self.index = 0\n",
    "        self.sample_count = 0\n",
    "        self.target_sample_count = target_sample_count\n",
    "        self.ratios = []\n",
    "\n",
    "    def set_batches(self, qualities):\n",
    "        self.batches = [Batch(quality) for quality in qualities]\n",
    "        self.systems = 0\n",
    "        self.good = 0\n",
    "\n",
    "    def rank_batches(self):\n",
    "        for batch in range(len(self.batches)):\n",
    "            self.batch_ranking[batch] = [0, 0, 0]\n",
    "\n",
    "    def get_element(self):\n",
    "        while self.sample_count < self.target_sample_count:\n",
    "            if self.systems < int(self.target_sample_count * 0.01):\n",
    "                result = self.batches[self.index].get_element()\n",
    "                good_value = self.batch_ranking[self.index][0]\n",
    "                sum_value = self.batch_ranking[self.index][1]\n",
    "\n",
    "                self.batch_ranking[self.index] = [good_value + int(result),\n",
    "                                                  sum_value + 1,\n",
    "                                                  (good_value + int(result)) / (sum_value + 1)]\n",
    "\n",
    "                self.systems = self.systems + 1\n",
    "                self.good = self.good + int(result)\n",
    "\n",
    "                self.index += 1\n",
    "                if self.index == len(self.batches):\n",
    "                    self.index = 0\n",
    "\n",
    "                self.sample_count += 1\n",
    "\n",
    "            else:\n",
    "                sorted_best_ratios = sorted(self.batch_ranking.items(), key=lambda x:x[1][2])\n",
    "                keys, values = list(), list()\n",
    "                for index in range(len(sorted_best_ratios)):\n",
    "                    keys.append(sorted_best_ratios[index][0])\n",
    "                    values.append(sorted_best_ratios[index][1])\n",
    "\n",
    "                choice = rd.choices(keys, weights=[value[2] * (index + 1) for index, value in enumerate(values)])[0]\n",
    "                result = self.batches[choice].get_element()\n",
    "                good_value = self.batch_ranking[choice][0]\n",
    "                sum_value = self.batch_ranking[choice][1]\n",
    "\n",
    "                self.batch_ranking[choice] = [good_value + int(result),\n",
    "                                              sum_value + 1,\n",
    "                                              (good_value + int(result)) / (sum_value + 1)]\n",
    "\n",
    "                self.systems = self.systems + 1\n",
    "                self.good = self.good + int(result)\n",
    "                self.sample_count += 1"
   ],
   "metadata": {
    "collapsed": false,
    "pycharm": {
     "name": "#%%\n"
    }
   }
  },
  {
   "cell_type": "code",
   "execution_count": 995,
   "outputs": [
    {
     "name": "stdout",
     "output_type": "stream",
     "text": [
      "Score is 0.84106\n"
     ]
    }
   ],
   "source": [
    "factorium_roulette = Factory_roulette(target_sample_count=epochs)\n",
    "factorium_roulette.set_batches(batches)\n",
    "factorium_roulette.rank_batches()\n",
    "factorium_roulette.get_element()\n",
    "print(f'Score is {factorium_roulette.good / factorium_roulette.systems}')"
   ],
   "metadata": {
    "collapsed": false,
    "pycharm": {
     "name": "#%%\n"
    }
   }
  },
  {
   "cell_type": "code",
   "execution_count": 996,
   "outputs": [
    {
     "name": "stdout",
     "output_type": "stream",
     "text": [
      "1569 1570\n",
      "4232 2738\n",
      "8512 3635\n",
      "14852 3749\n",
      "23442 2572\n",
      "31505 1636\n"
     ]
    }
   ],
   "source": [
    "for idx in range(len(factorium_roulette.batches)):\n",
    "    print(factorium_roulette.batches[idx].alpha, factorium_roulette.batches[idx].beta)"
   ],
   "metadata": {
    "collapsed": false,
    "pycharm": {
     "name": "#%%\n"
    }
   }
  },
  {
   "cell_type": "code",
   "execution_count": 996,
   "outputs": [],
   "source": [],
   "metadata": {
    "collapsed": false,
    "pycharm": {
     "name": "#%%\n"
    }
   }
  }
 ],
 "metadata": {
  "kernelspec": {
   "display_name": "Python 3",
   "language": "python",
   "name": "python3"
  },
  "language_info": {
   "codemirror_mode": {
    "name": "ipython",
    "version": 2
   },
   "file_extension": ".py",
   "mimetype": "text/x-python",
   "name": "python",
   "nbconvert_exporter": "python",
   "pygments_lexer": "ipython2",
   "version": "2.7.6"
  }
 },
 "nbformat": 4,
 "nbformat_minor": 0
}